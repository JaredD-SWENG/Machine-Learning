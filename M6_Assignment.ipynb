{
  "nbformat": 4,
  "nbformat_minor": 0,
  "metadata": {
    "colab": {
      "provenance": []
    },
    "kernelspec": {
      "name": "python3",
      "display_name": "Python 3"
    },
    "language_info": {
      "name": "python"
    }
  },
  "cells": [
    {
      "cell_type": "code",
      "execution_count": null,
      "metadata": {
        "id": "23y-beRqoitv"
      },
      "outputs": [],
      "source": [
        "# import the libraries\n",
        "import pandas as pd\n",
        "from sklearn.neural_network import MLPClassifier\n",
        "from sklearn.model_selection import train_test_split\n",
        "from sklearn.model_selection import cross_val_score"
      ]
    },
    {
      "cell_type": "code",
      "source": [
        "# load the Iris dataset with pandas\n",
        "url = \"https://archive.ics.uci.edu/ml/machine-learning-databases/iris/iris.data\"\n",
        "names = ['sepal-length', 'sepal-width', 'petal-length', 'petal-width', 'class']\n",
        "dataset = pd.read_csv(url, names=names)\n",
        "\n",
        "X = dataset.values[:,0:4].astype(float)\n",
        "Y = dataset.values[:,4].astype(str)"
      ],
      "metadata": {
        "id": "50WS-VO-otZ-"
      },
      "execution_count": null,
      "outputs": []
    },
    {
      "cell_type": "code",
      "source": [
        "# We will randomly split the data into 60% training and 40% test\n",
        "X_train, X_test, y_train, y_test = train_test_split(X, Y, test_size=.40)"
      ],
      "metadata": {
        "id": "IYNsx8cco1J3"
      },
      "execution_count": null,
      "outputs": []
    },
    {
      "cell_type": "markdown",
      "source": [
        "# Learning Rate: 0.001, Hidden Neurons: 3"
      ],
      "metadata": {
        "id": "YlOUPMxk0aHR"
      }
    },
    {
      "cell_type": "code",
      "source": [
        "clf = MLPClassifier(solver='sgd', activation='logistic',\n",
        " learning_rate_init=0.001, learning_rate='constant', max_iter=1000, verbose=False,\n",
        " hidden_layer_sizes=(3,))"
      ],
      "metadata": {
        "id": "3q70KIqxo5PF"
      },
      "execution_count": null,
      "outputs": []
    },
    {
      "cell_type": "code",
      "source": [
        "# 5-fold cross validation\n",
        "cv_results = cross_val_score(clf, X_train, y_train, cv=5)\n",
        "\n",
        "msg = \"Average Accuracy on cross-validation: %f (%f)\" % (cv_results.mean(), cv_results.std())\n",
        "\n",
        "print(msg)"
      ],
      "metadata": {
        "colab": {
          "base_uri": "https://localhost:8080/"
        },
        "id": "eyle2yO7pAh-",
        "outputId": "6b94c6a2-ae04-4c01-a27d-33d4f06558bc"
      },
      "execution_count": null,
      "outputs": [
        {
          "output_type": "stream",
          "name": "stderr",
          "text": [
            "/usr/local/lib/python3.10/dist-packages/sklearn/neural_network/_multilayer_perceptron.py:686: ConvergenceWarning: Stochastic Optimizer: Maximum iterations (1000) reached and the optimization hasn't converged yet.\n",
            "  warnings.warn(\n"
          ]
        },
        {
          "output_type": "stream",
          "name": "stdout",
          "text": [
            "Average Accuracy on cross-validation: 0.566667 (0.146566)\n"
          ]
        },
        {
          "output_type": "stream",
          "name": "stderr",
          "text": [
            "/usr/local/lib/python3.10/dist-packages/sklearn/neural_network/_multilayer_perceptron.py:686: ConvergenceWarning: Stochastic Optimizer: Maximum iterations (1000) reached and the optimization hasn't converged yet.\n",
            "  warnings.warn(\n"
          ]
        }
      ]
    },
    {
      "cell_type": "markdown",
      "source": [
        "# Learning Rate: 0.001, Hidden Neurons: 1"
      ],
      "metadata": {
        "id": "eFEzTJY600R2"
      }
    },
    {
      "cell_type": "code",
      "source": [
        "clf = MLPClassifier(solver='sgd', activation='logistic',\n",
        " learning_rate_init=0.001, learning_rate='constant', max_iter=1000, verbose=False,\n",
        " hidden_layer_sizes=(1,))\n",
        "\n",
        "# 5-fold cross validation\n",
        "cv_results = cross_val_score(clf, X_train, y_train, cv=5)\n",
        "\n",
        "msg = \"Average Accuracy on cross-validation: %f (%f)\" % (cv_results.mean(), cv_results.std())\n",
        "\n",
        "print(msg)"
      ],
      "metadata": {
        "colab": {
          "base_uri": "https://localhost:8080/"
        },
        "id": "2dmI8PjtponY",
        "outputId": "9acd0328-be53-4bd0-c7fa-70d0522aaacc"
      },
      "execution_count": null,
      "outputs": [
        {
          "output_type": "stream",
          "name": "stdout",
          "text": [
            "Average Accuracy on cross-validation: 0.411111 (0.134256)\n"
          ]
        },
        {
          "output_type": "stream",
          "name": "stderr",
          "text": [
            "/usr/local/lib/python3.10/dist-packages/sklearn/neural_network/_multilayer_perceptron.py:686: ConvergenceWarning: Stochastic Optimizer: Maximum iterations (1000) reached and the optimization hasn't converged yet.\n",
            "  warnings.warn(\n"
          ]
        }
      ]
    },
    {
      "cell_type": "markdown",
      "source": [
        "# Learning Rate: 0.001, Hidden Neurons: 5"
      ],
      "metadata": {
        "id": "Wryu3iH004WA"
      }
    },
    {
      "cell_type": "code",
      "source": [
        "clf = MLPClassifier(solver='sgd', activation='logistic',\n",
        " learning_rate_init=0.001, learning_rate='constant', max_iter=1000, verbose=False,\n",
        " hidden_layer_sizes=(5,))\n",
        "\n",
        "# 5-fold cross validation\n",
        "cv_results = cross_val_score(clf, X_train, y_train, cv=5)\n",
        "\n",
        "msg = \"Average Accuracy on cross-validation: %f (%f)\" % (cv_results.mean(), cv_results.std())\n",
        "\n",
        "print(msg)"
      ],
      "metadata": {
        "colab": {
          "base_uri": "https://localhost:8080/"
        },
        "id": "cLpCevlSqjKM",
        "outputId": "caa42bfe-efa5-4c35-c621-1298fee8008f"
      },
      "execution_count": null,
      "outputs": [
        {
          "output_type": "stream",
          "name": "stderr",
          "text": [
            "/usr/local/lib/python3.10/dist-packages/sklearn/neural_network/_multilayer_perceptron.py:686: ConvergenceWarning: Stochastic Optimizer: Maximum iterations (1000) reached and the optimization hasn't converged yet.\n",
            "  warnings.warn(\n",
            "/usr/local/lib/python3.10/dist-packages/sklearn/neural_network/_multilayer_perceptron.py:686: ConvergenceWarning: Stochastic Optimizer: Maximum iterations (1000) reached and the optimization hasn't converged yet.\n",
            "  warnings.warn(\n"
          ]
        },
        {
          "output_type": "stream",
          "name": "stdout",
          "text": [
            "Average Accuracy on cross-validation: 0.533333 (0.167037)\n"
          ]
        },
        {
          "output_type": "stream",
          "name": "stderr",
          "text": [
            "/usr/local/lib/python3.10/dist-packages/sklearn/neural_network/_multilayer_perceptron.py:686: ConvergenceWarning: Stochastic Optimizer: Maximum iterations (1000) reached and the optimization hasn't converged yet.\n",
            "  warnings.warn(\n"
          ]
        }
      ]
    },
    {
      "cell_type": "markdown",
      "source": [
        "# Learning Rate: 0.01, Hidden Neurons: 1"
      ],
      "metadata": {
        "id": "SDWMZ8m707UG"
      }
    },
    {
      "cell_type": "code",
      "source": [
        "clf = MLPClassifier(solver='sgd', activation='logistic',\n",
        " learning_rate_init=0.01, learning_rate='constant', max_iter=1000, verbose=False,\n",
        " hidden_layer_sizes=(1,))\n",
        "\n",
        "# 5-fold cross validation\n",
        "cv_results = cross_val_score(clf, X_train, y_train, cv=5)\n",
        "\n",
        "msg = \"Average Accuracy on cross-validation: %f (%f)\" % (cv_results.mean(), cv_results.std())\n",
        "\n",
        "print(msg)"
      ],
      "metadata": {
        "colab": {
          "base_uri": "https://localhost:8080/"
        },
        "id": "RhEz0_XxqsBK",
        "outputId": "227b4858-8a37-41a1-d40c-6c300185883d"
      },
      "execution_count": null,
      "outputs": [
        {
          "output_type": "stream",
          "name": "stderr",
          "text": [
            "/usr/local/lib/python3.10/dist-packages/sklearn/neural_network/_multilayer_perceptron.py:686: ConvergenceWarning: Stochastic Optimizer: Maximum iterations (1000) reached and the optimization hasn't converged yet.\n",
            "  warnings.warn(\n"
          ]
        },
        {
          "output_type": "stream",
          "name": "stdout",
          "text": [
            "Average Accuracy on cross-validation: 0.588889 (0.194365)\n"
          ]
        },
        {
          "output_type": "stream",
          "name": "stderr",
          "text": [
            "/usr/local/lib/python3.10/dist-packages/sklearn/neural_network/_multilayer_perceptron.py:686: ConvergenceWarning: Stochastic Optimizer: Maximum iterations (1000) reached and the optimization hasn't converged yet.\n",
            "  warnings.warn(\n"
          ]
        }
      ]
    },
    {
      "cell_type": "markdown",
      "source": [
        "# Learning Rate: 0.01, Hidden Neurons: 3"
      ],
      "metadata": {
        "id": "cc_tCQax0_i2"
      }
    },
    {
      "cell_type": "code",
      "source": [
        "clf = MLPClassifier(solver='sgd', activation='logistic',\n",
        " learning_rate_init=0.01, learning_rate='constant', max_iter=1000, verbose=False,\n",
        " hidden_layer_sizes=(3,))\n",
        "\n",
        "# 5-fold cross validation\n",
        "cv_results = cross_val_score(clf, X_train, y_train, cv=5)\n",
        "\n",
        "msg = \"Average Accuracy on cross-validation: %f (%f)\" % (cv_results.mean(), cv_results.std())\n",
        "\n",
        "print(msg)"
      ],
      "metadata": {
        "colab": {
          "base_uri": "https://localhost:8080/"
        },
        "id": "DfGp0E83qusq",
        "outputId": "d2dada00-96c2-4944-adab-f4b4ebc280fb"
      },
      "execution_count": null,
      "outputs": [
        {
          "output_type": "stream",
          "name": "stderr",
          "text": [
            "/usr/local/lib/python3.10/dist-packages/sklearn/neural_network/_multilayer_perceptron.py:686: ConvergenceWarning: Stochastic Optimizer: Maximum iterations (1000) reached and the optimization hasn't converged yet.\n",
            "  warnings.warn(\n",
            "/usr/local/lib/python3.10/dist-packages/sklearn/neural_network/_multilayer_perceptron.py:686: ConvergenceWarning: Stochastic Optimizer: Maximum iterations (1000) reached and the optimization hasn't converged yet.\n",
            "  warnings.warn(\n"
          ]
        },
        {
          "output_type": "stream",
          "name": "stdout",
          "text": [
            "Average Accuracy on cross-validation: 0.722222 (0.274424)\n"
          ]
        },
        {
          "output_type": "stream",
          "name": "stderr",
          "text": [
            "/usr/local/lib/python3.10/dist-packages/sklearn/neural_network/_multilayer_perceptron.py:686: ConvergenceWarning: Stochastic Optimizer: Maximum iterations (1000) reached and the optimization hasn't converged yet.\n",
            "  warnings.warn(\n"
          ]
        }
      ]
    },
    {
      "cell_type": "markdown",
      "source": [
        "# Learning Rate: 0.01, Hidden Neurons: 5"
      ],
      "metadata": {
        "id": "evCjlfeX1CLx"
      }
    },
    {
      "cell_type": "code",
      "source": [
        "clf = MLPClassifier(solver='sgd', activation='logistic',\n",
        " learning_rate_init=0.01, learning_rate='constant', max_iter=1000, verbose=False,\n",
        " hidden_layer_sizes=(5,))\n",
        "\n",
        "# 5-fold cross validation\n",
        "cv_results = cross_val_score(clf, X_train, y_train, cv=5)\n",
        "\n",
        "msg = \"Average Accuracy on cross-validation: %f (%f)\" % (cv_results.mean(), cv_results.std())\n",
        "\n",
        "print(msg)"
      ],
      "metadata": {
        "colab": {
          "base_uri": "https://localhost:8080/"
        },
        "id": "pVup7tyRq0gc",
        "outputId": "4fc76afa-4eb7-4f11-f56a-b7997becd818"
      },
      "execution_count": null,
      "outputs": [
        {
          "output_type": "stream",
          "name": "stderr",
          "text": [
            "/usr/local/lib/python3.10/dist-packages/sklearn/neural_network/_multilayer_perceptron.py:686: ConvergenceWarning: Stochastic Optimizer: Maximum iterations (1000) reached and the optimization hasn't converged yet.\n",
            "  warnings.warn(\n",
            "/usr/local/lib/python3.10/dist-packages/sklearn/neural_network/_multilayer_perceptron.py:686: ConvergenceWarning: Stochastic Optimizer: Maximum iterations (1000) reached and the optimization hasn't converged yet.\n",
            "  warnings.warn(\n",
            "/usr/local/lib/python3.10/dist-packages/sklearn/neural_network/_multilayer_perceptron.py:686: ConvergenceWarning: Stochastic Optimizer: Maximum iterations (1000) reached and the optimization hasn't converged yet.\n",
            "  warnings.warn(\n",
            "/usr/local/lib/python3.10/dist-packages/sklearn/neural_network/_multilayer_perceptron.py:686: ConvergenceWarning: Stochastic Optimizer: Maximum iterations (1000) reached and the optimization hasn't converged yet.\n",
            "  warnings.warn(\n"
          ]
        },
        {
          "output_type": "stream",
          "name": "stdout",
          "text": [
            "Average Accuracy on cross-validation: 0.966667 (0.044444)\n"
          ]
        },
        {
          "output_type": "stream",
          "name": "stderr",
          "text": [
            "/usr/local/lib/python3.10/dist-packages/sklearn/neural_network/_multilayer_perceptron.py:686: ConvergenceWarning: Stochastic Optimizer: Maximum iterations (1000) reached and the optimization hasn't converged yet.\n",
            "  warnings.warn(\n"
          ]
        }
      ]
    },
    {
      "cell_type": "markdown",
      "source": [
        "# Learning Rate: 0.1, Hidden Neurons: 1"
      ],
      "metadata": {
        "id": "W5TTRDNr1Gmt"
      }
    },
    {
      "cell_type": "code",
      "source": [
        "clf = MLPClassifier(solver='sgd', activation='logistic',\n",
        " learning_rate_init=0.1, learning_rate='constant', max_iter=1000, verbose=False,\n",
        " hidden_layer_sizes=(1,))\n",
        "\n",
        "# 5-fold cross validation\n",
        "cv_results = cross_val_score(clf, X_train, y_train, cv=5)\n",
        "\n",
        "msg = \"Average Accuracy on cross-validation: %f (%f)\" % (cv_results.mean(), cv_results.std())\n",
        "\n",
        "print(msg)"
      ],
      "metadata": {
        "colab": {
          "base_uri": "https://localhost:8080/"
        },
        "id": "zhA8x0rDq4xC",
        "outputId": "dccd31f3-1fe2-4776-d5e7-2cfb20c75e6f"
      },
      "execution_count": null,
      "outputs": [
        {
          "output_type": "stream",
          "name": "stdout",
          "text": [
            "Average Accuracy on cross-validation: 0.744444 (0.218299)\n"
          ]
        }
      ]
    },
    {
      "cell_type": "markdown",
      "source": [
        "# Learning Rate: 0.1, Hidden Neurons: 3"
      ],
      "metadata": {
        "id": "y41wlmlS1KTy"
      }
    },
    {
      "cell_type": "code",
      "source": [
        "clf = MLPClassifier(solver='sgd', activation='logistic',\n",
        " learning_rate_init=0.1, learning_rate='constant', max_iter=1000, verbose=False,\n",
        " hidden_layer_sizes=(3,))\n",
        "\n",
        "# 5-fold cross validation\n",
        "cv_results = cross_val_score(clf, X_train, y_train, cv=5)\n",
        "\n",
        "msg = \"Average Accuracy on cross-validation: %f (%f)\" % (cv_results.mean(), cv_results.std())\n",
        "\n",
        "print(msg)"
      ],
      "metadata": {
        "colab": {
          "base_uri": "https://localhost:8080/"
        },
        "id": "tc8oR36Kq-ir",
        "outputId": "797c3ca0-da7f-426d-aca5-15a840ef7808"
      },
      "execution_count": null,
      "outputs": [
        {
          "output_type": "stream",
          "name": "stdout",
          "text": [
            "Average Accuracy on cross-validation: 0.955556 (0.041574)\n"
          ]
        }
      ]
    },
    {
      "cell_type": "markdown",
      "source": [
        "# Learning Rate: 0.1, Hidden Neurons: 5\n",
        "Combination with best results, converges regularly. <br> Accuracy on test set: 96.67%"
      ],
      "metadata": {
        "id": "8zlB7df21NYC"
      }
    },
    {
      "cell_type": "code",
      "source": [
        "clf = MLPClassifier(solver='sgd', activation='logistic',\n",
        " learning_rate_init=0.1, learning_rate='constant', max_iter=1000, verbose=False,\n",
        " hidden_layer_sizes=(5,))\n",
        "\n",
        "# 5-fold cross validation\n",
        "cv_results = cross_val_score(clf, X_train, y_train, cv=5)\n",
        "\n",
        "msg = \"Average Accuracy on cross-validation: %f (%f)\" % (cv_results.mean(), cv_results.std())\n",
        "\n",
        "print(msg)"
      ],
      "metadata": {
        "colab": {
          "base_uri": "https://localhost:8080/"
        },
        "id": "38imqQH1rDrk",
        "outputId": "f5d2e565-18a2-4176-a054-c293e2c88431"
      },
      "execution_count": null,
      "outputs": [
        {
          "output_type": "stream",
          "name": "stdout",
          "text": [
            "Average Accuracy on cross-validation: 0.955556 (0.041574)\n"
          ]
        }
      ]
    },
    {
      "cell_type": "code",
      "source": [
        "from sklearn.metrics import accuracy_score\n",
        "\n",
        "clf.fit(X_train, y_train)\n",
        "predictions_clf = clf.predict(X_test)\n",
        "print(\"Accuracy_score:\", accuracy_score(y_test, predictions_clf))"
      ],
      "metadata": {
        "colab": {
          "base_uri": "https://localhost:8080/"
        },
        "id": "y0czUgNGr1Lt",
        "outputId": "4a376f9f-f3c8-4a74-9101-48d257157bfb"
      },
      "execution_count": null,
      "outputs": [
        {
          "output_type": "stream",
          "name": "stdout",
          "text": [
            "Accuracy_score: 0.9666666666666667\n"
          ]
        }
      ]
    },
    {
      "cell_type": "markdown",
      "source": [
        "![nn1.png](data:image/png;base64,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)"
      ],
      "metadata": {
        "id": "47Xe6HhvtZcz"
      }
    },
    {
      "cell_type": "markdown",
      "source": [
        "**The weight of each connection is shown on the graph.  If given input [X1, X2] = [0.1, 0.2] : <br>\n",
        "5.1 What is the output of hidden node H, when feed-forward using a Sigmoid function?**   <br>\n",
        "\n",
        "(0.1 * 1) + (0.2 * 2) + 0 = 0.5 <br>\n",
        "sigmoid(0.5) = 0.6224593\n",
        "\n",
        "---\n",
        "\n",
        "\n",
        "**5.2 If the truth (target) is [0, 1] corresponding to the outputs of [O1, O2],  what is going to be Δwo1 (the change to wo1) using backpropagation?** <br>\n",
        "\n",
        "-(0 - 0.776) * 0.776 * (1 - 0.776) * 0.6224593 =\n",
        "0.0839619"
      ],
      "metadata": {
        "id": "LV0AI1Yetpk3"
      }
    }
  ]
}